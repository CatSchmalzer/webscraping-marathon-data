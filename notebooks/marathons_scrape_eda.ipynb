{
 "cells": [
  {
   "cell_type": "code",
   "execution_count": 1,
   "metadata": {},
   "outputs": [],
   "source": [
    "import pandas as pd\n",
    "import requests\n",
    "from bs4 import BeautifulSoup as BS"
   ]
  },
  {
   "cell_type": "markdown",
   "metadata": {},
   "source": [
    "## The steps to get a DataFrame from one page of results look like this:\n",
    "- • Build a URL by combining the base url with a specific page number\n",
    "- • Use requests.post() to get the results of the post\n",
    "- • Make a soup from results.text\n",
    "- • Look at the soup to identify the table you want based on one of its attributes (like class)\n",
    "- • Pass the table as a string to pandas read_html()\n",
    "- • What does that look like? What is the datatype?\n",
    "- • Keep working with the data until you have it a DataFrame"
   ]
  },
  {
   "cell_type": "markdown",
   "metadata": {},
   "source": [
    "## Insert pagination values"
   ]
  },
  {
   "cell_type": "code",
   "execution_count": 2,
   "metadata": {},
   "outputs": [],
   "source": [
    "pgs_2016 = 154\n",
    "pgs_2017 = 147\n",
    "pgs_2018 = 85\n",
    "pgs_2019 = 113\n",
    "pgs_half_2016 = 898\n",
    "pgs_half_2017 = 892\n",
    "pgs_half_2018 = 598\n",
    "pgs_half_2019 = 690"
   ]
  },
  {
   "cell_type": "markdown",
   "metadata": {},
   "source": [
    "## Base URLs for each race results page\n"
   ]
  },
  {
   "cell_type": "code",
   "execution_count": 3,
   "metadata": {},
   "outputs": [],
   "source": [
    "urlbase_2019 = 'https://www.runrocknroll.com/Events/Nashville/The-Races/Marathon/2019-Results?gender=&agegroup=&bib=&firstname=&lastname=&page='\n",
    "urlbase_2018 = 'https://www.runrocknroll.com/Events/Nashville/The-Races/Marathon/2018-Results?gender=&agegroup=&bib=&firstname=&lastname=&page='\n",
    "urlbase_2017 = 'https://www.runrocknroll.com/Events/Nashville/The-Races/Marathon/2017-Results?gender=&agegroup=&bib=&firstname=&lastname=&page='\n",
    "urlbase_2016 = 'https://www.runrocknroll.com/Events/Nashville/The-Races/Marathon/2016-Results?gender=&agegroup=&bib=&firstname=&lastname=&page='\n",
    "urlbase_half_2019 = 'https://www.runrocknroll.com/Events/Nashville/The-Races/Half-Marathon/2019-Results?gender=&agegroup=&bib=&firstname=&lastname=&page='\n",
    "urlbase_half_2018 = 'https://www.runrocknroll.com/Events/Nashville/The-Races/Half-Marathon/2018-Results?gender=&agegroup=&bib=&firstname=&lastname=&page='\n",
    "urlbase_half_2017 = 'https://www.runrocknroll.com/Events/Nashville/The-Races/Half-Marathon/2017-Results?gender=&agegroup=&bib=&firstname=&lastname=&page='\n",
    "urlbase_half_2016 = 'https://www.runrocknroll.com/Events/Nashville/The-Races/Half-Marathon/2016-Results?gender=&agegroup=&bib=&firstname=&lastname=&page='"
   ]
  },
  {
   "cell_type": "markdown",
   "metadata": {},
   "source": [
    "## Example pull of one page (99) of race data from 2019 Marathon"
   ]
  },
  {
   "cell_type": "code",
   "execution_count": 4,
   "metadata": {},
   "outputs": [
    {
     "name": "stdout",
     "output_type": "stream",
     "text": [
      "https://www.runrocknroll.com/Events/Nashville/The-Races/Marathon/2019-Results?gender=&agegroup=&bib=&firstname=&lastname=&page=99\n"
     ]
    }
   ],
   "source": [
    "base = urlbase_2019\n",
    "page = 99\n",
    "url = base + str(99)\n",
    "print(url)"
   ]
  },
  {
   "cell_type": "code",
   "execution_count": 5,
   "metadata": {},
   "outputs": [
    {
     "name": "stdout",
     "output_type": "stream",
     "text": [
      "<class 'requests.models.Response'>\n",
      "<class 'bs4.BeautifulSoup'>\n"
     ]
    }
   ],
   "source": [
    "response = requests.post(url)\n",
    "print(type(response))\n",
    "soup = BS(response.text, 'lxml')\n",
    "print(type(soup))"
   ]
  },
  {
   "cell_type": "code",
   "execution_count": 6,
   "metadata": {},
   "outputs": [],
   "source": [
    "tables = soup.find_all('table', \n",
    "                       attrs = {'class': 'table table-responsive table-bordered'})"
   ]
  },
  {
   "cell_type": "code",
   "execution_count": 7,
   "metadata": {},
   "outputs": [
    {
     "data": {
      "text/plain": [
       "3"
      ]
     },
     "execution_count": 7,
     "metadata": {},
     "output_type": "execute_result"
    }
   ],
   "source": [
    "len(tables)"
   ]
  },
  {
   "cell_type": "code",
   "execution_count": 8,
   "metadata": {},
   "outputs": [],
   "source": [
    "results_list = pd.read_html(str(tables[0])) ## returns a list of dataframes"
   ]
  },
  {
   "cell_type": "code",
   "execution_count": 9,
   "metadata": {},
   "outputs": [
    {
     "data": {
      "text/plain": [
       "1"
      ]
     },
     "execution_count": 9,
     "metadata": {},
     "output_type": "execute_result"
    }
   ],
   "source": [
    "len(results_list)"
   ]
  },
  {
   "cell_type": "code",
   "execution_count": 10,
   "metadata": {},
   "outputs": [
    {
     "data": {
      "text/plain": [
       "(25, 4)"
      ]
     },
     "execution_count": 10,
     "metadata": {},
     "output_type": "execute_result"
    }
   ],
   "source": [
    "df = results_list[0]\n",
    "df.shape"
   ]
  },
  {
   "cell_type": "code",
   "execution_count": 11,
   "metadata": {},
   "outputs": [
    {
     "data": {
      "text/html": [
       "<div>\n",
       "<style scoped>\n",
       "    .dataframe tbody tr th:only-of-type {\n",
       "        vertical-align: middle;\n",
       "    }\n",
       "\n",
       "    .dataframe tbody tr th {\n",
       "        vertical-align: top;\n",
       "    }\n",
       "\n",
       "    .dataframe thead th {\n",
       "        text-align: right;\n",
       "    }\n",
       "</style>\n",
       "<table border=\"1\" class=\"dataframe\">\n",
       "  <thead>\n",
       "    <tr style=\"text-align: right;\">\n",
       "      <th></th>\n",
       "      <th>Overall</th>\n",
       "      <th>Bib</th>\n",
       "      <th>Name</th>\n",
       "      <th>Time</th>\n",
       "    </tr>\n",
       "  </thead>\n",
       "  <tbody>\n",
       "    <tr>\n",
       "      <td>0</td>\n",
       "      <td>99999</td>\n",
       "      <td>32379</td>\n",
       "      <td>Raquel Flores</td>\n",
       "      <td>00:00:00</td>\n",
       "    </tr>\n",
       "    <tr>\n",
       "      <td>1</td>\n",
       "      <td>99999</td>\n",
       "      <td>30292</td>\n",
       "      <td>Kyle Domingos</td>\n",
       "      <td>00:00:00</td>\n",
       "    </tr>\n",
       "    <tr>\n",
       "      <td>2</td>\n",
       "      <td>99999</td>\n",
       "      <td>32850</td>\n",
       "      <td>Paul Dillard</td>\n",
       "      <td>00:00:00</td>\n",
       "    </tr>\n",
       "    <tr>\n",
       "      <td>3</td>\n",
       "      <td>99999</td>\n",
       "      <td>31415</td>\n",
       "      <td>Nicole Bennett</td>\n",
       "      <td>00:00:00</td>\n",
       "    </tr>\n",
       "    <tr>\n",
       "      <td>4</td>\n",
       "      <td>99999</td>\n",
       "      <td>32995</td>\n",
       "      <td>Rudy Novak</td>\n",
       "      <td>00:00:00</td>\n",
       "    </tr>\n",
       "  </tbody>\n",
       "</table>\n",
       "</div>"
      ],
      "text/plain": [
       "   Overall    Bib            Name      Time\n",
       "0    99999  32379   Raquel Flores  00:00:00\n",
       "1    99999  30292   Kyle Domingos  00:00:00\n",
       "2    99999  32850    Paul Dillard  00:00:00\n",
       "3    99999  31415  Nicole Bennett  00:00:00\n",
       "4    99999  32995      Rudy Novak  00:00:00"
      ]
     },
     "execution_count": 11,
     "metadata": {},
     "output_type": "execute_result"
    }
   ],
   "source": [
    "df.head()"
   ]
  },
  {
   "cell_type": "markdown",
   "metadata": {},
   "source": [
    "## A test to see what tables[2] looks like..."
   ]
  },
  {
   "cell_type": "code",
   "execution_count": 12,
   "metadata": {},
   "outputs": [
    {
     "data": {
      "text/plain": [
       "[    Top Men                             \n",
       "   Gender PL               Name      Time\n",
       " 0         2     Scott Wietecha  02:34:59\n",
       " 1         3      Jordan Wilson  02:35:24\n",
       " 2         4     Steelton Flynn  02:39:59\n",
       " 3         5       Thomas Ellis  02:42:09\n",
       " 4         6   Nicholas Tseffos  02:48:42\n",
       " 5         7  Satoshi Mitsumori  02:50:33\n",
       " 6         8   Harrison Kieffer  02:51:18\n",
       " 7         9       Steven Forte  02:54:34\n",
       " 8        10         Grant Rice  02:55:49\n",
       " 9        11      Andrew Fisher  02:56:05]"
      ]
     },
     "execution_count": 12,
     "metadata": {},
     "output_type": "execute_result"
    }
   ],
   "source": [
    "pd.read_html(str(tables[2]))"
   ]
  },
  {
   "cell_type": "markdown",
   "metadata": {},
   "source": [
    "## Write a \"test function\" to itterate through all 85 race pages for 2018 Full"
   ]
  },
  {
   "cell_type": "code",
   "execution_count": 13,
   "metadata": {},
   "outputs": [],
   "source": [
    "## urlbase_2018 = 'https://www.runrocknroll.com/Events/Nashville/The-Races/Marathon/2018-Results?gender=&agegroup=&bib=&firstname=&lastname=&page='\n",
    "\n",
    "base = urlbase_2018\n",
    "pgs_2018 = 85\n",
    "\n",
    "column_names = ['Overall', 'Bib', 'Name', 'Time']\n",
    "\n",
    "## Create empty dataframe\n",
    "full_2018 = pd.DataFrame(columns= column_names) \n",
    "\n",
    "\n",
    "## Iterate over url_base2018        \n",
    "for page in range (1, pgs_2018+1):\n",
    "        \n",
    "    base = urlbase_2018\n",
    "    url = base + str(page)\n",
    "    response = requests.post(url)\n",
    "    soup = BS(response.text, 'lxml')\n",
    "    tables = soup.find_all('table', \n",
    "                     attrs = {'class': 'table table-responsive table-bordered'})\n",
    "    results_list = pd.read_html(str(tables[0]))\n",
    "    full_2018 = full_2018.append(pd.DataFrame(results_list[0]))\n",
    "    \n"
   ]
  },
  {
   "cell_type": "code",
   "execution_count": 14,
   "metadata": {},
   "outputs": [
    {
     "data": {
      "text/plain": [
       "(2115, 4)"
      ]
     },
     "execution_count": 14,
     "metadata": {},
     "output_type": "execute_result"
    }
   ],
   "source": [
    "full_2018.shape"
   ]
  },
  {
   "cell_type": "code",
   "execution_count": 15,
   "metadata": {},
   "outputs": [
    {
     "data": {
      "text/html": [
       "<div>\n",
       "<style scoped>\n",
       "    .dataframe tbody tr th:only-of-type {\n",
       "        vertical-align: middle;\n",
       "    }\n",
       "\n",
       "    .dataframe tbody tr th {\n",
       "        vertical-align: top;\n",
       "    }\n",
       "\n",
       "    .dataframe thead th {\n",
       "        text-align: right;\n",
       "    }\n",
       "</style>\n",
       "<table border=\"1\" class=\"dataframe\">\n",
       "  <thead>\n",
       "    <tr style=\"text-align: right;\">\n",
       "      <th></th>\n",
       "      <th>Overall</th>\n",
       "      <th>Bib</th>\n",
       "      <th>Name</th>\n",
       "      <th>Time</th>\n",
       "    </tr>\n",
       "  </thead>\n",
       "  <tbody>\n",
       "    <tr>\n",
       "      <td>0</td>\n",
       "      <td>99999</td>\n",
       "      <td>32379</td>\n",
       "      <td>Raquel Flores</td>\n",
       "      <td>00:00:00</td>\n",
       "    </tr>\n",
       "    <tr>\n",
       "      <td>1</td>\n",
       "      <td>99999</td>\n",
       "      <td>30292</td>\n",
       "      <td>Kyle Domingos</td>\n",
       "      <td>00:00:00</td>\n",
       "    </tr>\n",
       "    <tr>\n",
       "      <td>2</td>\n",
       "      <td>99999</td>\n",
       "      <td>32850</td>\n",
       "      <td>Paul Dillard</td>\n",
       "      <td>00:00:00</td>\n",
       "    </tr>\n",
       "    <tr>\n",
       "      <td>3</td>\n",
       "      <td>99999</td>\n",
       "      <td>31415</td>\n",
       "      <td>Nicole Bennett</td>\n",
       "      <td>00:00:00</td>\n",
       "    </tr>\n",
       "    <tr>\n",
       "      <td>4</td>\n",
       "      <td>99999</td>\n",
       "      <td>32995</td>\n",
       "      <td>Rudy Novak</td>\n",
       "      <td>00:00:00</td>\n",
       "    </tr>\n",
       "  </tbody>\n",
       "</table>\n",
       "</div>"
      ],
      "text/plain": [
       "   Overall    Bib            Name      Time\n",
       "0    99999  32379   Raquel Flores  00:00:00\n",
       "1    99999  30292   Kyle Domingos  00:00:00\n",
       "2    99999  32850    Paul Dillard  00:00:00\n",
       "3    99999  31415  Nicole Bennett  00:00:00\n",
       "4    99999  32995      Rudy Novak  00:00:00"
      ]
     },
     "execution_count": 15,
     "metadata": {},
     "output_type": "execute_result"
    }
   ],
   "source": [
    "df.head()"
   ]
  },
  {
   "cell_type": "markdown",
   "metadata": {},
   "source": [
    "## Define a generic function to read through all pages of each race."
   ]
  },
  {
   "cell_type": "code",
   "execution_count": 16,
   "metadata": {},
   "outputs": [],
   "source": [
    "def marathon_data_df(base, pages):\n",
    "    \"\"\"This function will pull all pages of race for each event\"\"\"\n",
    "\n",
    "    column_names = ['Overall', 'Bib', 'Name', 'Time']\n",
    "\n",
    "    ## Create empty dataframe\n",
    "    df = pd.DataFrame(columns= column_names) \n",
    "\n",
    "    ## Iterate over all pages in race      \n",
    "    for page in range (1, pages+1):\n",
    "        \n",
    "        url = base + str(page)\n",
    "        response = requests.post(url)\n",
    "        soup = BS(response.text, 'lxml')\n",
    "        tables = soup.find_all('table', \n",
    "                     attrs = {'class': 'table table-responsive table-bordered'})\n",
    "        results_list = pd.read_html(str(tables[0]))\n",
    "        df = df.append(pd.DataFrame(results_list[0]))\n",
    "    \n",
    "    return df\n",
    "\n"
   ]
  },
  {
   "cell_type": "markdown",
   "metadata": {},
   "source": [
    "## Create DataFrame for 2019 Full Marathon"
   ]
  },
  {
   "cell_type": "code",
   "execution_count": 17,
   "metadata": {},
   "outputs": [
    {
     "ename": "KeyboardInterrupt",
     "evalue": "",
     "output_type": "error",
     "traceback": [
      "\u001b[1;31m---------------------------------------------------------------------------\u001b[0m",
      "\u001b[1;31mOSError\u001b[0m                                   Traceback (most recent call last)",
      "\u001b[1;32m~\\Anaconda3\\lib\\site-packages\\pandas\\io\\html.py\u001b[0m in \u001b[0;36m_build_doc\u001b[1;34m(self)\u001b[0m\n\u001b[0;32m    713\u001b[0m                 \u001b[1;31m# try to parse the input in the simplest way\u001b[0m\u001b[1;33m\u001b[0m\u001b[1;33m\u001b[0m\u001b[1;33m\u001b[0m\u001b[0m\n\u001b[1;32m--> 714\u001b[1;33m                 \u001b[0mr\u001b[0m \u001b[1;33m=\u001b[0m \u001b[0mparse\u001b[0m\u001b[1;33m(\u001b[0m\u001b[0mself\u001b[0m\u001b[1;33m.\u001b[0m\u001b[0mio\u001b[0m\u001b[1;33m,\u001b[0m \u001b[0mparser\u001b[0m\u001b[1;33m=\u001b[0m\u001b[0mparser\u001b[0m\u001b[1;33m)\u001b[0m\u001b[1;33m\u001b[0m\u001b[1;33m\u001b[0m\u001b[0m\n\u001b[0m\u001b[0;32m    715\u001b[0m             \u001b[1;32mtry\u001b[0m\u001b[1;33m:\u001b[0m\u001b[1;33m\u001b[0m\u001b[1;33m\u001b[0m\u001b[0m\n",
      "\u001b[1;32m~\\Anaconda3\\lib\\site-packages\\lxml\\html\\__init__.py\u001b[0m in \u001b[0;36mparse\u001b[1;34m(filename_or_url, parser, base_url, **kw)\u001b[0m\n\u001b[0;32m    938\u001b[0m         \u001b[0mparser\u001b[0m \u001b[1;33m=\u001b[0m \u001b[0mhtml_parser\u001b[0m\u001b[1;33m\u001b[0m\u001b[1;33m\u001b[0m\u001b[0m\n\u001b[1;32m--> 939\u001b[1;33m     \u001b[1;32mreturn\u001b[0m \u001b[0metree\u001b[0m\u001b[1;33m.\u001b[0m\u001b[0mparse\u001b[0m\u001b[1;33m(\u001b[0m\u001b[0mfilename_or_url\u001b[0m\u001b[1;33m,\u001b[0m \u001b[0mparser\u001b[0m\u001b[1;33m,\u001b[0m \u001b[0mbase_url\u001b[0m\u001b[1;33m=\u001b[0m\u001b[0mbase_url\u001b[0m\u001b[1;33m,\u001b[0m \u001b[1;33m**\u001b[0m\u001b[0mkw\u001b[0m\u001b[1;33m)\u001b[0m\u001b[1;33m\u001b[0m\u001b[1;33m\u001b[0m\u001b[0m\n\u001b[0m\u001b[0;32m    940\u001b[0m \u001b[1;33m\u001b[0m\u001b[0m\n",
      "\u001b[1;32msrc/lxml/etree.pyx\u001b[0m in \u001b[0;36mlxml.etree.parse\u001b[1;34m()\u001b[0m\n",
      "\u001b[1;32msrc/lxml/parser.pxi\u001b[0m in \u001b[0;36mlxml.etree._parseDocument\u001b[1;34m()\u001b[0m\n",
      "\u001b[1;32msrc/lxml/parser.pxi\u001b[0m in \u001b[0;36mlxml.etree._parseDocumentFromURL\u001b[1;34m()\u001b[0m\n",
      "\u001b[1;32msrc/lxml/parser.pxi\u001b[0m in \u001b[0;36mlxml.etree._parseDocFromFile\u001b[1;34m()\u001b[0m\n",
      "\u001b[1;32msrc/lxml/parser.pxi\u001b[0m in \u001b[0;36mlxml.etree._BaseParser._parseDocFromFile\u001b[1;34m()\u001b[0m\n",
      "\u001b[1;32msrc/lxml/parser.pxi\u001b[0m in \u001b[0;36mlxml.etree._ParserContext._handleParseResultDoc\u001b[1;34m()\u001b[0m\n",
      "\u001b[1;32msrc/lxml/parser.pxi\u001b[0m in \u001b[0;36mlxml.etree._handleParseResult\u001b[1;34m()\u001b[0m\n",
      "\u001b[1;32msrc/lxml/parser.pxi\u001b[0m in \u001b[0;36mlxml.etree._raiseParseError\u001b[1;34m()\u001b[0m\n",
      "\u001b[1;31mOSError\u001b[0m: Error reading file '<table class=\"table table-responsive table-bordered\">\n<tr>\n<th class=\"table-place\">Overall</th>\n<th class=\"table-place\">Bib</th>\n<th class=\"table-name\">Name</th>\n<th class=\"table-time\">Time</th>\n</tr>\n<tr>\n<td>1501</td>\n<td>31680</td>\n<td><a href=\"/en/Events/Nashville/The-Races/Marathon/2019-Results/Athlete?id=31680\">Pam Boehm</a></td>\n<td>05:14:00</td>\n</tr>\n<tr>\n<td>1502</td>\n<td>32080</td>\n<td><a href=\"/en/Events/Nashville/The-Races/Marathon/2019-Results/Athlete?id=32080\">Brooks Woloshyn</a></td>\n<td>05:14:05</td>\n</tr>\n<tr>\n<td>1503</td>\n<td>33155</td>\n<td><a href=\"/en/Events/Nashville/The-Races/Marathon/2019-Results/Athlete?id=33155\">Michelle Adkins</a></td>\n<td>05:14:05</td>\n</tr>\n<tr>\n<td>1504</td>\n<td>30689</td>\n<td><a href=\"/en/Events/Nashville/The-Races/Marathon/2019-Results/Athlete?id=30689\">Samuel Younger</a></td>\n<td>05:14:15</td>\n</tr>\n<tr>\n<td>1505</td>\n<td>31152</td>\n<td><a href=\"/en/Events/Nashville/The-Races/Marathon/2019-Results/Athlete?id=31152\">Rodolfo Molinar</a></td>\n<td>05:14:16</td>\n</tr>\n<tr>\n<td>1506</td>\n<td>32468</td>\n<td><a href=\"/en/Events/Nashville/The-Races/Marathon/2019-Results/Athlete?id=32468\">Sinman (Casie) Lee</a></td>\n<td>05:14:27</td>\n</tr>\n<tr>\n<td>1507</td>\n<td>30857</td>\n<td><a href=\"/en/Events/Nashville/The-Races/Marathon/2019-Results/Athlete?id=30857\">Susan Ashworth</a></td>\n<td>05:14:27</td>\n</tr>\n<tr>\n<td>1508</td>\n<td>32041</td>\n<td><a href=\"/en/Events/Nashville/The-Races/Marathon/2019-Results/Athlete?id=32041\">James Tsang</a></td>\n<td>05:14:27</td>\n</tr>\n<tr>\n<td>1509</td>\n<td>31720</td>\n<td><a href=\"/en/Events/Nashville/The-Races/Marathon/2019-Results/Athlete?id=31720\">Michael Cheyne</a></td>\n<td>05:14:27</td>\n</tr>\n<tr>\n<td>1510</td>\n<td>32557</td>\n<td><a href=\"/en/Events/Nashville/The-Races/Marathon/2019-Results/Athlete?id=32557\">Menette Sideco</a></td>\n<td>05:14:28</td>\n</tr>\n<tr>\n<td>1511</td>\n<td>32076</td>\n<td><a href=\"/en/Events/Nashville/The-Races/Marathon/2019-Results/Athlete?id=32076\">Jeremy Winters</a></td>\n<td>05:14:31</td>\n</tr>\n<tr>\n<td>1512</td>\n<td>30568</td>\n<td><a href=\"/en/Events/Nashville/The-Races/Marathon/2019-Results/Athlete?id=30568\">Blake Davis</a></td>\n<td>05:14:31</td>\n</tr>\n<tr>\n<td>1513</td>\n<td>32279</td>\n<td><a href=\"/en/Events/Nashville/The-Races/Marathon/2019-Results/Athlete?id=32279\">Jeffrey Sullivan</a></td>\n<td>05:14:32</td>\n</tr>\n<tr>\n<td>1514</td>\n<td>32352</td>\n<td><a href=\"/en/Events/Nashville/The-Races/Marathon/2019-Results/Athlete?id=32352\">Kathleen Corlett</a></td>\n<td>05:14:42</td>\n</tr>\n<tr>\n<td>1515</td>\n<td>32757</td>\n<td><a href=\"/en/Events/Nashville/The-Races/Marathon/2019-Results/Athlete?id=32757\">Charity Huston</a></td>\n<td>05:14:45</td>\n</tr>\n<tr>\n<td>1516</td>\n<td>31542</td>\n<td><a href=\"/en/Events/Nashville/The-Races/Marathon/2019-Results/Athlete?id=31542\">Chris Yarber</a></td>\n<td>05:15:07</td>\n</tr>\n<tr>\n<td>1517</td>\n<td>31642</td>\n<td><a href=\"/en/Events/Nashville/The-Races/Marathon/2019-Results/Athlete?id=31642\">Jason Goulder</a></td>\n<td>05:15:07</td>\n</tr>\n<tr>\n<td>1518</td>\n<td>32984</td>\n<td><a href=\"/en/Events/Nashville/The-Races/Marathon/2019-Results/Athlete?id=32984\">Brianna Fischetti</a></td>\n<td>05:15:10</td>\n</tr>\n<tr>\n<td>1519</td>\n<td>31716</td>\n<td><a href=\"/en/Events/Nashville/The-Races/Marathon/2019-Results/Athlete?id=31716\">Klara Cavos-Wright</a></td>\n<td>05:15:29</td>\n</tr>\n<tr>\n<td>1520</td>\n<td>32714</td>\n<td><a href=\"/en/Events/Nashville/The-Races/Marathon/2019-Results/Athlete?id=32714\">Chuck Campbell</a></td>\n<td>05:15:29</td>\n</tr>\n<tr>\n<td>1521</td>\n<td>31614</td>\n<td><a href=\"/en/Events/Nashville/The-Races/Marathon/2019-Results/Athlete?id=31614\">Stacy Warren</a></td>\n<td>05:15:29</td>\n</tr>\n<tr>\n<td>1522</td>\n<td>32060</td>\n<td><a href=\"/en/Events/Nashville/The-Races/Marathon/2019-Results/Athlete?id=32060\">Blair Warren</a></td>\n<td>05:15:30</td>\n</tr>\n<tr>\n<td>1523</td>\n<td>31100</td>\n<td><a href=\"/en/Events/Nashville/The-Races/Marathon/2019-Results/Athlete?id=31100\">Jessica Luth</a></td>\n<td>05:15:54</td>\n</tr>\n<tr>\n<td>1524</td>\n<td>32636</td>\n<td><a href=\"/en/Events/Nashville/The-Races/Marathon/2019-Results/Athlete?id=32636\">Erin Consuegra</a></td>\n<td>05:16:04</td>\n</tr>\n<tr>\n<td>1525</td>\n<td>30730</td>\n<td><a href=\"/en/Events/Nashville/The-Races/Marathon/2019-Results/Athlete?id=30730\">Charlie Jordan</a></td>\n<td>05:16:06</td>\n</tr>\n</table>': failed to load external entity \"<table class=\"table table-responsive table-bordered\">\n<tr>\n<th class=\"table-place\">Overall</th>\n<th class=\"table-place\">Bib</th>\n<th class=\"table-name\">Name</th>\n<th class=\"table-time\">Time</th>\n</tr>\n<tr>\n<td>1501</td>\n<td>31680</td>\n<td><a href=\"/en/Events/Nashville/The-Races/Marathon/2019-Results/Athlete?id=31680\">Pam Boehm</a></td>\n<td>05:14:00</td>\n</tr>\n<tr>\n<td>1502</td>\n<td>32080</td>\n<td><a href=\"/en/Events/Nashville/The-Races/Marathon/2019-Results/Athlete?id=32080\">Brooks Woloshyn</a></td>\n<td>05:14:05</td>\n</tr>\n<tr>\n<td>1503</td>\n<td>33155</td>\n<td><a href=\"/en/Events/Nashville/The-Races/Marathon/2019-Results/Athlete?id=33155\">Michelle Adkins</a></td>\n<td>05:14:05</td>\n</tr>\n<tr>\n<td>1504</td>\n<td>30689</td>\n<td><a href=\"/en/Events/Nashville/The-Races/Marathon/2019-Results/Athlete?id=30689\">Samuel Younger</a></td>\n<td>05:14:15</td>\n</tr>\n<tr>\n<td>1505</td>\n<td>31152</td>\n<td><a href=\"/en/Events/Nashville/The-Races/Marathon/2019-Results/Athlete?id=31152\">Rodolfo Molinar</a></td>\n<td>05:14:16</td>\n</tr>\n<tr>\n<td>1506</td>\n<td>32468</td>\n<td><a href=\"/en/Events/Nashville/The-Races/Marathon/2019-Results/Athlete?id=32468\">Sinman (Casie) Lee</a></td>\n<td>05:14:27</td>\n</tr>\n<tr>\n<td>1507</td>\n<td>30857</td>\n<td><a href=\"/en/Events/Nashville/The-Races/Marathon/2019-Results/Athlete?id=30857\">Susan Ashworth</a></td>\n<td>05:14:27</td>\n</tr>\n<tr>\n<td>1508</td>\n<td>32041</td>\n<td><a href=\"/en/Events/Nashville/The-Races/Marathon/2019-Results/Athlete?id=32041\">James Tsang</a></td>\n<td>05:14:27</td>\n</tr>\n<tr>\n<td>1509</td>\n<td>31720</td>\n<td><a href=\"/en/Events/Nashville/The-Races/Marathon/2019-Results/Athlete?id=31720\">Michael Cheyne</a></td>\n<td>05:14:27</td>\n</tr>\n<tr>\n<td>1510</td>\n<td>32557</td>\n<td><a href=\"/en/Events/Nashville/The-Races/Marathon/2019-Results/Athlete?id=32557\">Menette Sideco</a></td>\n<td>05:14:28</td>\n</tr>\n<tr>\n<td>1511</td>\n<td>32076</td>\n<td><a href=\"/en/Events/Nashville/The-Races/Marathon/2019-Results/Athlete?id=32076\">Jeremy Winters</a></td>\n<td>05:14:31</td>\n</tr>\n<tr>\n<td>1512</td>\n<td>30568</td>\n<td><a href=\"/en/Events/Nashville/The-Races/Marathon/2019-Results/Athlete?id=30568\">Blake Davis</a></td>\n<td>05:14:31</td>\n</tr>\n<tr>\n<td>1513</td>\n<td>32279</td>\n<td><a href=\"/en/Events/Nashville/The-Races/Marathon/2019-Results/Athlete?id=32279\">Jeffrey Sullivan</a></td>\n<td>05:14:32</td>\n</tr>\n<tr>\n<td>1514</td>\n<td>32352</td>\n<td><a href=\"/en/Events/Nashville/The-Races/Marathon/2019-Results/Athlete?id=32352\">Kathleen Corlett</a></td>\n<td>05:14:42</td>\n</tr>\n<tr>\n<td>1515</td>\n<td>32757</td>\n<td><a href=\"/en/Events/Nashville/The-Races/Marathon/2019-Results/Athlete?id=32757\">Charity Huston</a></td>\n<td>05:14:45</td>\n</tr>\n<tr>\n<td>1516</td>\n<td>31542</td>\n<td><a href=\"/en/Events/Nashville/The-Races/Marathon/2019-Results/Athlete?id=31542\">Chris Yarber</a></td>\n<td>05:15:07</td>\n</tr>\n<tr>\n<td>1517</td>\n<td>31642</td>\n<td><a href=\"/en/Events/Nashville/The-Races/Marathon/2019-Results/Athlete?id=31642\">Jason Goulder</a></td>\n<td>05:15:07</td>\n</tr>\n<tr>\n<td>1518</td>\n<td>32984</td>\n<td><a href=\"/en/Events/Nashville/The-Races/Marathon/2019-Results/Athlete?id=32984\">Brianna Fischetti</a></td>\n<td>05:15:10</td>\n</tr>\n<tr>\n<td>1519</td>\n<td>31716</td>\n<td><a href=\"/en/Events/Nashville/The-Races/Marathon/2019-Results/Athlete?id=31716\">Klara Cavos-Wright</a></td>\n<td>05:15:29</td>\n</tr>\n<tr>\n<td>1520</td>\n<td>32714</td>\n<td><a href=\"/en/Events/Nashville/The-Races/Marathon/2019-Results/Athlete?id=32714\">Chuck Campbell</a></td>\n<td>05:15:29</td>\n</tr>\n<tr>\n<td>1521</td>\n<td>31614</td>\n<td><a href=\"/en/Events/Nashville/The-Races/Marathon/2019-Results/Athlete?id=31614\">Stacy Warren</a></td>\n<td>05:15:29</td>\n</tr>\n<tr>\n<td>1522</td>\n<td>32060</td>\n<td><a href=\"/en/Events/Nashville/The-Races/Marathon/2019-Results/Athlete?id=32060\">Blair Warren</a></td>\n<td>05:15:30</td>\n</tr>\n<tr>\n<td>1523</td>\n<td>31100</td>\n<td><a href=\"/en/Events/Nashville/The-Races/Marathon/2019-Results/Athlete?id=31100\">Jessica Luth</a></td>\n<td>05:15:54</td>\n</tr>\n<tr>\n<td>1524</td>\n<td>32636</td>\n<td><a href=\"/en/Events/Nashville/The-Races/Marathon/2019-Results/Athlete?id=32636\">Erin Consuegra</a></td>\n<td>05:16:04</td>\n</tr>\n<tr>\n<td>1525</td>\n<td>30730</td>\n<td><a href=\"/en/Events/Nashville/The-Races/Marathon/2019-Results/Athlete?id=30730\">Charlie Jordan</a></td>\n<td>05:16:06</td>\n</tr>\n</table>\"",
      "\nDuring handling of the above exception, another exception occurred:\n",
      "\u001b[1;31mKeyboardInterrupt\u001b[0m                         Traceback (most recent call last)",
      "\u001b[1;32m<ipython-input-17-daad6ad9f71d>\u001b[0m in \u001b[0;36m<module>\u001b[1;34m\u001b[0m\n\u001b[1;32m----> 1\u001b[1;33m \u001b[0mfull_2019\u001b[0m \u001b[1;33m=\u001b[0m \u001b[0mmarathon_data_df\u001b[0m\u001b[1;33m(\u001b[0m\u001b[0murlbase_2019\u001b[0m\u001b[1;33m,\u001b[0m \u001b[0mpgs_2019\u001b[0m\u001b[1;33m)\u001b[0m\u001b[1;33m\u001b[0m\u001b[1;33m\u001b[0m\u001b[0m\n\u001b[0m",
      "\u001b[1;32m<ipython-input-16-e58bc622ccda>\u001b[0m in \u001b[0;36mmarathon_data_df\u001b[1;34m(base, pages)\u001b[0m\n\u001b[0;32m     15\u001b[0m         tables = soup.find_all('table', \n\u001b[0;32m     16\u001b[0m                      attrs = {'class': 'table table-responsive table-bordered'})\n\u001b[1;32m---> 17\u001b[1;33m         \u001b[0mresults_list\u001b[0m \u001b[1;33m=\u001b[0m \u001b[0mpd\u001b[0m\u001b[1;33m.\u001b[0m\u001b[0mread_html\u001b[0m\u001b[1;33m(\u001b[0m\u001b[0mstr\u001b[0m\u001b[1;33m(\u001b[0m\u001b[0mtables\u001b[0m\u001b[1;33m[\u001b[0m\u001b[1;36m0\u001b[0m\u001b[1;33m]\u001b[0m\u001b[1;33m)\u001b[0m\u001b[1;33m)\u001b[0m\u001b[1;33m\u001b[0m\u001b[1;33m\u001b[0m\u001b[0m\n\u001b[0m\u001b[0;32m     18\u001b[0m         \u001b[0mdf\u001b[0m \u001b[1;33m=\u001b[0m \u001b[0mdf\u001b[0m\u001b[1;33m.\u001b[0m\u001b[0mappend\u001b[0m\u001b[1;33m(\u001b[0m\u001b[0mpd\u001b[0m\u001b[1;33m.\u001b[0m\u001b[0mDataFrame\u001b[0m\u001b[1;33m(\u001b[0m\u001b[0mresults_list\u001b[0m\u001b[1;33m[\u001b[0m\u001b[1;36m0\u001b[0m\u001b[1;33m]\u001b[0m\u001b[1;33m)\u001b[0m\u001b[1;33m)\u001b[0m\u001b[1;33m\u001b[0m\u001b[1;33m\u001b[0m\u001b[0m\n\u001b[0;32m     19\u001b[0m \u001b[1;33m\u001b[0m\u001b[0m\n",
      "\u001b[1;32m~\\Anaconda3\\lib\\site-packages\\pandas\\io\\html.py\u001b[0m in \u001b[0;36mread_html\u001b[1;34m(io, match, flavor, header, index_col, skiprows, attrs, parse_dates, thousands, encoding, decimal, converters, na_values, keep_default_na, displayed_only)\u001b[0m\n\u001b[0;32m   1103\u001b[0m         \u001b[0mna_values\u001b[0m\u001b[1;33m=\u001b[0m\u001b[0mna_values\u001b[0m\u001b[1;33m,\u001b[0m\u001b[1;33m\u001b[0m\u001b[1;33m\u001b[0m\u001b[0m\n\u001b[0;32m   1104\u001b[0m         \u001b[0mkeep_default_na\u001b[0m\u001b[1;33m=\u001b[0m\u001b[0mkeep_default_na\u001b[0m\u001b[1;33m,\u001b[0m\u001b[1;33m\u001b[0m\u001b[1;33m\u001b[0m\u001b[0m\n\u001b[1;32m-> 1105\u001b[1;33m         \u001b[0mdisplayed_only\u001b[0m\u001b[1;33m=\u001b[0m\u001b[0mdisplayed_only\u001b[0m\u001b[1;33m,\u001b[0m\u001b[1;33m\u001b[0m\u001b[1;33m\u001b[0m\u001b[0m\n\u001b[0m\u001b[0;32m   1106\u001b[0m     )\n",
      "\u001b[1;32m~\\Anaconda3\\lib\\site-packages\\pandas\\io\\html.py\u001b[0m in \u001b[0;36m_parse\u001b[1;34m(flavor, io, match, attrs, encoding, displayed_only, **kwargs)\u001b[0m\n\u001b[0;32m    890\u001b[0m \u001b[1;33m\u001b[0m\u001b[0m\n\u001b[0;32m    891\u001b[0m         \u001b[1;32mtry\u001b[0m\u001b[1;33m:\u001b[0m\u001b[1;33m\u001b[0m\u001b[1;33m\u001b[0m\u001b[0m\n\u001b[1;32m--> 892\u001b[1;33m             \u001b[0mtables\u001b[0m \u001b[1;33m=\u001b[0m \u001b[0mp\u001b[0m\u001b[1;33m.\u001b[0m\u001b[0mparse_tables\u001b[0m\u001b[1;33m(\u001b[0m\u001b[1;33m)\u001b[0m\u001b[1;33m\u001b[0m\u001b[1;33m\u001b[0m\u001b[0m\n\u001b[0m\u001b[0;32m    893\u001b[0m         \u001b[1;32mexcept\u001b[0m \u001b[0mException\u001b[0m \u001b[1;32mas\u001b[0m \u001b[0mcaught\u001b[0m\u001b[1;33m:\u001b[0m\u001b[1;33m\u001b[0m\u001b[1;33m\u001b[0m\u001b[0m\n\u001b[0;32m    894\u001b[0m             \u001b[1;31m# if `io` is an io-like object, check if it's seekable\u001b[0m\u001b[1;33m\u001b[0m\u001b[1;33m\u001b[0m\u001b[1;33m\u001b[0m\u001b[0m\n",
      "\u001b[1;32m~\\Anaconda3\\lib\\site-packages\\pandas\\io\\html.py\u001b[0m in \u001b[0;36mparse_tables\u001b[1;34m(self)\u001b[0m\n\u001b[0;32m    210\u001b[0m         \u001b[0mlist\u001b[0m \u001b[0mof\u001b[0m \u001b[0mparsed\u001b[0m \u001b[1;33m(\u001b[0m\u001b[0mheader\u001b[0m\u001b[1;33m,\u001b[0m \u001b[0mbody\u001b[0m\u001b[1;33m,\u001b[0m \u001b[0mfooter\u001b[0m\u001b[1;33m)\u001b[0m \u001b[0mtuples\u001b[0m \u001b[1;32mfrom\u001b[0m \u001b[0mtables\u001b[0m\u001b[1;33m.\u001b[0m\u001b[1;33m\u001b[0m\u001b[1;33m\u001b[0m\u001b[0m\n\u001b[0;32m    211\u001b[0m         \"\"\"\n\u001b[1;32m--> 212\u001b[1;33m         \u001b[0mtables\u001b[0m \u001b[1;33m=\u001b[0m \u001b[0mself\u001b[0m\u001b[1;33m.\u001b[0m\u001b[0m_parse_tables\u001b[0m\u001b[1;33m(\u001b[0m\u001b[0mself\u001b[0m\u001b[1;33m.\u001b[0m\u001b[0m_build_doc\u001b[0m\u001b[1;33m(\u001b[0m\u001b[1;33m)\u001b[0m\u001b[1;33m,\u001b[0m \u001b[0mself\u001b[0m\u001b[1;33m.\u001b[0m\u001b[0mmatch\u001b[0m\u001b[1;33m,\u001b[0m \u001b[0mself\u001b[0m\u001b[1;33m.\u001b[0m\u001b[0mattrs\u001b[0m\u001b[1;33m)\u001b[0m\u001b[1;33m\u001b[0m\u001b[1;33m\u001b[0m\u001b[0m\n\u001b[0m\u001b[0;32m    213\u001b[0m         \u001b[1;32mreturn\u001b[0m \u001b[1;33m(\u001b[0m\u001b[0mself\u001b[0m\u001b[1;33m.\u001b[0m\u001b[0m_parse_thead_tbody_tfoot\u001b[0m\u001b[1;33m(\u001b[0m\u001b[0mtable\u001b[0m\u001b[1;33m)\u001b[0m \u001b[1;32mfor\u001b[0m \u001b[0mtable\u001b[0m \u001b[1;32min\u001b[0m \u001b[0mtables\u001b[0m\u001b[1;33m)\u001b[0m\u001b[1;33m\u001b[0m\u001b[1;33m\u001b[0m\u001b[0m\n\u001b[0;32m    214\u001b[0m \u001b[1;33m\u001b[0m\u001b[0m\n",
      "\u001b[1;32m~\\Anaconda3\\lib\\site-packages\\pandas\\io\\html.py\u001b[0m in \u001b[0;36m_build_doc\u001b[1;34m(self)\u001b[0m\n\u001b[0;32m    712\u001b[0m             \u001b[1;32melse\u001b[0m\u001b[1;33m:\u001b[0m\u001b[1;33m\u001b[0m\u001b[1;33m\u001b[0m\u001b[0m\n\u001b[0;32m    713\u001b[0m                 \u001b[1;31m# try to parse the input in the simplest way\u001b[0m\u001b[1;33m\u001b[0m\u001b[1;33m\u001b[0m\u001b[1;33m\u001b[0m\u001b[0m\n\u001b[1;32m--> 714\u001b[1;33m                 \u001b[0mr\u001b[0m \u001b[1;33m=\u001b[0m \u001b[0mparse\u001b[0m\u001b[1;33m(\u001b[0m\u001b[0mself\u001b[0m\u001b[1;33m.\u001b[0m\u001b[0mio\u001b[0m\u001b[1;33m,\u001b[0m \u001b[0mparser\u001b[0m\u001b[1;33m=\u001b[0m\u001b[0mparser\u001b[0m\u001b[1;33m)\u001b[0m\u001b[1;33m\u001b[0m\u001b[1;33m\u001b[0m\u001b[0m\n\u001b[0m\u001b[0;32m    715\u001b[0m             \u001b[1;32mtry\u001b[0m\u001b[1;33m:\u001b[0m\u001b[1;33m\u001b[0m\u001b[1;33m\u001b[0m\u001b[0m\n\u001b[0;32m    716\u001b[0m                 \u001b[0mr\u001b[0m \u001b[1;33m=\u001b[0m \u001b[0mr\u001b[0m\u001b[1;33m.\u001b[0m\u001b[0mgetroot\u001b[0m\u001b[1;33m(\u001b[0m\u001b[1;33m)\u001b[0m\u001b[1;33m\u001b[0m\u001b[1;33m\u001b[0m\u001b[0m\n",
      "\u001b[1;31mKeyboardInterrupt\u001b[0m: "
     ]
    }
   ],
   "source": [
    "full_2019 = marathon_data_df(urlbase_2019, pgs_2019)"
   ]
  },
  {
   "cell_type": "code",
   "execution_count": null,
   "metadata": {},
   "outputs": [],
   "source": [
    "full_2019.shape"
   ]
  },
  {
   "cell_type": "code",
   "execution_count": null,
   "metadata": {},
   "outputs": [],
   "source": [
    "full_2019.head()"
   ]
  },
  {
   "cell_type": "code",
   "execution_count": null,
   "metadata": {},
   "outputs": [],
   "source": [
    "type(full_2019)"
   ]
  },
  {
   "cell_type": "markdown",
   "metadata": {},
   "source": [
    "## Create DataFrame for 2017 Full Marathon"
   ]
  },
  {
   "cell_type": "code",
   "execution_count": null,
   "metadata": {},
   "outputs": [],
   "source": [
    "full_2017 = marathon_data_df(urlbase_2017, pgs_2017)"
   ]
  },
  {
   "cell_type": "code",
   "execution_count": null,
   "metadata": {},
   "outputs": [],
   "source": [
    "full_2017.shape"
   ]
  },
  {
   "cell_type": "code",
   "execution_count": null,
   "metadata": {},
   "outputs": [],
   "source": [
    "full_2017.head()"
   ]
  },
  {
   "cell_type": "markdown",
   "metadata": {},
   "source": [
    "## Create DataFrame for 2016 Full Marathon"
   ]
  },
  {
   "cell_type": "markdown",
   "metadata": {},
   "source": [
    "full_2016 = marathon_data_df(urlbase_2016, pgs_2016)"
   ]
  },
  {
   "cell_type": "code",
   "execution_count": null,
   "metadata": {},
   "outputs": [],
   "source": [
    "full_2016.shape"
   ]
  },
  {
   "cell_type": "code",
   "execution_count": null,
   "metadata": {},
   "outputs": [],
   "source": [
    "full_2016.head()"
   ]
  },
  {
   "cell_type": "markdown",
   "metadata": {},
   "source": [
    "## Create Lists for the Half Marathons to use in Loop"
   ]
  },
  {
   "cell_type": "code",
   "execution_count": null,
   "metadata": {},
   "outputs": [],
   "source": [
    "bases_half_list = [urlbase_half_2019, urlbase_half_2018, urlbase_half_2017, urlbase_half_2016]"
   ]
  },
  {
   "cell_type": "code",
   "execution_count": null,
   "metadata": {},
   "outputs": [],
   "source": [
    "pages_half_list = [pgs_half_2019, pgs_half_2018, pgs_half_2017, pgs_half_2016]"
   ]
  },
  {
   "cell_type": "code",
   "execution_count": null,
   "metadata": {},
   "outputs": [],
   "source": [
    "df_half_list = []\n",
    "for base, pages in zip(bases_half_list, pages_half_list):\n",
    "    df_half_list.append(marathon_data_df(base, pages))"
   ]
  },
  {
   "cell_type": "code",
   "execution_count": null,
   "metadata": {},
   "outputs": [],
   "source": []
  },
  {
   "cell_type": "markdown",
   "metadata": {},
   "source": [
    "## Convert dataframes to csv files"
   ]
  },
  {
   "cell_type": "code",
   "execution_count": null,
   "metadata": {},
   "outputs": [],
   "source": [
    "df_names = ['half_2019.csv', 'half_2018.csv', 'half_2017.csv', 'half_2016.csv']\n",
    "for df, csv_name in zip(df_half_list, df_names):\n",
    "    df.to_csv(csv_name, index = False)"
   ]
  },
  {
   "cell_type": "code",
   "execution_count": null,
   "metadata": {},
   "outputs": [],
   "source": [
    "full_2019.to_csv('full_2019.csv')"
   ]
  },
  {
   "cell_type": "code",
   "execution_count": null,
   "metadata": {},
   "outputs": [],
   "source": [
    "full_2018.to_csv('full_2018.csv')"
   ]
  },
  {
   "cell_type": "code",
   "execution_count": null,
   "metadata": {},
   "outputs": [],
   "source": [
    "full_2017.to_csv('full_2017.csv')\n",
    "full_2016.to_csv('full_2016.csv')"
   ]
  },
  {
   "cell_type": "code",
   "execution_count": null,
   "metadata": {},
   "outputs": [],
   "source": []
  }
 ],
 "metadata": {
  "kernelspec": {
   "display_name": "Python 3",
   "language": "python",
   "name": "python3"
  },
  "language_info": {
   "codemirror_mode": {
    "name": "ipython",
    "version": 3
   },
   "file_extension": ".py",
   "mimetype": "text/x-python",
   "name": "python",
   "nbconvert_exporter": "python",
   "pygments_lexer": "ipython3",
   "version": "3.7.4"
  }
 },
 "nbformat": 4,
 "nbformat_minor": 2
}
